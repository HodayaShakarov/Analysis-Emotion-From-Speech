{
 "cells": [
  {
   "cell_type": "code",
   "execution_count": null,
   "metadata": {},
   "outputs": [],
   "source": [
    "import streamlit as st\n",
    "import pickle\n",
    "import numpy as np\n",
    "\n",
    "\n",
    "\n",
    "def imshow(img,text=None,should_save=False):\n",
    "    npimg = img.numpy()\n",
    "    plt.axis(\"off\")\n",
    "    if text:\n",
    "        plt.text(75, 8, text, style='italic',fontweight='bold',\n",
    "            bbox={'facecolor':'white', 'alpha':0.8, 'pad':10})\n",
    "    plt.imshow(np.transpose(npimg, (1, 2, 0)))\n",
    "    plt.show() \n",
    "    \n",
    "alpha=['A', 'B', 'C', 'D', 'E', 'F', 'G', 'H', 'I', 'J', 'K', 'L', 'M', 'N', 'O', 'P', 'Q', 'R', 'S', 'T', 'U', 'V', 'W', 'X', 'Y', 'Z']\n",
    "\n",
    "\n",
    "\n",
    "\n",
    "\n",
    "\n",
    "def show_predict_page():\n",
    "    my_model=torch.load('model.pt')\n",
    "    st.title(\"hands g p\")\n",
    "\n",
    "    st.write(\"\"\"### We need some information to predict the salary\"\"\")\n",
    "    uploaded_file = st.file_uploader(\"Choose a image file\", type=\"jpg\")\n",
    "    if uploaded_file is not None:\n",
    "        # Convert the file to an opencv image.\n",
    "        file_bytes = np.asarray(bytearray(uploaded_file.read()), dtype=np.uint8)\n",
    "        opencv_image = cv2.imdecode(file_bytes, 1)\n",
    "\n",
    "        #this is your image\n",
    "        img = opencv_image\n",
    "\n",
    "        # pre processing the image and prepare it for the classification\n",
    "        img = cv2.resize(img, (64,64))\n",
    "        img_tensor = torch.from_numpy(img[:,:,1:2])\n",
    "        img_tensor=img_tensor.reshape(1,1,64,64)\n",
    "\n",
    "        #===============================\n",
    "\n",
    "        pred= my_model(img_tensor*1.1)\n",
    "\n",
    "        top_p_pred, top_class_pred = pred.topk(1, dim=1)\n",
    "        imshow(torchvision.utils.make_grid(img_tensor),'predicted.  {}'.format(alpha[top_class_pred.item()]))\n",
    "\n"
   ]
  }
 ],
 "metadata": {
  "kernelspec": {
   "display_name": "Python 3",
   "language": "python",
   "name": "python3"
  },
  "language_info": {
   "codemirror_mode": {
    "name": "ipython",
    "version": 3
   },
   "file_extension": ".py",
   "mimetype": "text/x-python",
   "name": "python",
   "nbconvert_exporter": "python",
   "pygments_lexer": "ipython3",
   "version": "3.7.0"
  }
 },
 "nbformat": 4,
 "nbformat_minor": 4
}
